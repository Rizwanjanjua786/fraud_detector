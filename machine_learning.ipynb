{
 "cells": [
  {
   "cell_type": "code",
   "execution_count": 14,
   "metadata": {
    "id": "pBEqhPq-7kSB"
   },
   "outputs": [],
   "source": [
    "import pandas as pd\n",
    "import numpy as np\n",
    "import matplotlib.pyplot as plt\n",
    "import seaborn as sns\n",
    "\n",
    "import warnings\n",
    "warnings.filterwarnings('ignore')"
   ]
  },
  {
   "cell_type": "code",
   "execution_count": 15,
   "metadata": {
    "colab": {
     "base_uri": "https://localhost:8080/",
     "height": 206
    },
    "id": "1MzaXQqz7kSF",
    "outputId": "cf9ac77d-b7d5-4311-d40e-8843a4db3f13"
   },
   "outputs": [
    {
     "data": {
      "text/plain": "   category    amt  gender  dob  transaction_hour  is_fraud\n0        13   8.49       0   69                22         1\n1        10   4.37       1   25                16         0\n2         8 738.31       0   54                16         1\n3        12 795.01       1   30                23         1\n4         7  64.94       0   54                16         0",
      "text/html": "<div>\n<style scoped>\n    .dataframe tbody tr th:only-of-type {\n        vertical-align: middle;\n    }\n\n    .dataframe tbody tr th {\n        vertical-align: top;\n    }\n\n    .dataframe thead th {\n        text-align: right;\n    }\n</style>\n<table border=\"1\" class=\"dataframe\">\n  <thead>\n    <tr style=\"text-align: right;\">\n      <th></th>\n      <th>category</th>\n      <th>amt</th>\n      <th>gender</th>\n      <th>dob</th>\n      <th>transaction_hour</th>\n      <th>is_fraud</th>\n    </tr>\n  </thead>\n  <tbody>\n    <tr>\n      <th>0</th>\n      <td>13</td>\n      <td>8.49</td>\n      <td>0</td>\n      <td>69</td>\n      <td>22</td>\n      <td>1</td>\n    </tr>\n    <tr>\n      <th>1</th>\n      <td>10</td>\n      <td>4.37</td>\n      <td>1</td>\n      <td>25</td>\n      <td>16</td>\n      <td>0</td>\n    </tr>\n    <tr>\n      <th>2</th>\n      <td>8</td>\n      <td>738.31</td>\n      <td>0</td>\n      <td>54</td>\n      <td>16</td>\n      <td>1</td>\n    </tr>\n    <tr>\n      <th>3</th>\n      <td>12</td>\n      <td>795.01</td>\n      <td>1</td>\n      <td>30</td>\n      <td>23</td>\n      <td>1</td>\n    </tr>\n    <tr>\n      <th>4</th>\n      <td>7</td>\n      <td>64.94</td>\n      <td>0</td>\n      <td>54</td>\n      <td>16</td>\n      <td>0</td>\n    </tr>\n  </tbody>\n</table>\n</div>"
     },
     "execution_count": 15,
     "metadata": {},
     "output_type": "execute_result"
    }
   ],
   "source": [
    "df_final = pd.read_csv(\"cleaned_fraud_data.csv\")\n",
    "df_final.head()"
   ]
  },
  {
   "cell_type": "code",
   "execution_count": 16,
   "metadata": {
    "colab": {
     "base_uri": "https://localhost:8080/"
    },
    "id": "AS29T-2x_RzR",
    "outputId": "69d0cd9f-cc2d-4883-a3f7-ca34d35cb5ec"
   },
   "outputs": [
    {
     "name": "stdout",
     "output_type": "stream",
     "text": [
      "Shape of independent variables table: (19302, 5)\n",
      "Shape of target variable table: (19302, 1)\n"
     ]
    }
   ],
   "source": [
    "X = df_final[['category', 'amt', 'gender', 'dob', 'transaction_hour']]\n",
    "y = df_final[['is_fraud']]\n",
    "\n",
    "print(\"Shape of independent variables table:\", X.shape)\n",
    "print(\"Shape of target variable table:\", y.shape)"
   ]
  },
  {
   "cell_type": "markdown",
   "metadata": {
    "id": "lW5jjIQ57kSU"
   },
   "source": [
    "## Comparing 8 classifiers using lazypredict"
   ]
  },
  {
   "cell_type": "code",
   "execution_count": 17,
   "metadata": {
    "colab": {
     "base_uri": "https://localhost:8080/"
    },
    "id": "DZcuYTZ37kSU",
    "outputId": "e8e0035f-c444-4b08-b53c-355b468b053a"
   },
   "outputs": [
    {
     "name": "stdout",
     "output_type": "stream",
     "text": [
      "Requirement already satisfied: lazypredict in c:\\users\\rajar\\anaconda3\\lib\\site-packages (0.2.12)\n",
      "Requirement already satisfied: click in c:\\users\\rajar\\anaconda3\\lib\\site-packages (from lazypredict) (8.0.4)\n",
      "Requirement already satisfied: lightgbm in c:\\users\\rajar\\anaconda3\\lib\\site-packages (from lazypredict) (3.3.3)\n",
      "Requirement already satisfied: joblib in c:\\users\\rajar\\anaconda3\\lib\\site-packages (from lazypredict) (1.1.0)\n",
      "Requirement already satisfied: xgboost in c:\\users\\rajar\\anaconda3\\lib\\site-packages (from lazypredict) (1.7.2)\n",
      "Requirement already satisfied: scikit-learn in c:\\users\\rajar\\anaconda3\\lib\\site-packages (from lazypredict) (1.0.2)\n",
      "Requirement already satisfied: tqdm in c:\\users\\rajar\\anaconda3\\lib\\site-packages (from lazypredict) (4.64.1)\n",
      "Requirement already satisfied: pandas in c:\\users\\rajar\\anaconda3\\lib\\site-packages (from lazypredict) (1.4.4)\n",
      "Requirement already satisfied: colorama in c:\\users\\rajar\\anaconda3\\lib\\site-packages (from click->lazypredict) (0.4.5)\n",
      "Requirement already satisfied: scipy in c:\\users\\rajar\\anaconda3\\lib\\site-packages (from lightgbm->lazypredict) (1.9.1)\n",
      "Requirement already satisfied: numpy in c:\\users\\rajar\\anaconda3\\lib\\site-packages (from lightgbm->lazypredict) (1.21.5)\n",
      "Requirement already satisfied: wheel in c:\\users\\rajar\\anaconda3\\lib\\site-packages (from lightgbm->lazypredict) (0.37.1)\n",
      "Requirement already satisfied: threadpoolctl>=2.0.0 in c:\\users\\rajar\\anaconda3\\lib\\site-packages (from scikit-learn->lazypredict) (2.2.0)\n",
      "Requirement already satisfied: python-dateutil>=2.8.1 in c:\\users\\rajar\\anaconda3\\lib\\site-packages (from pandas->lazypredict) (2.8.2)\n",
      "Requirement already satisfied: pytz>=2020.1 in c:\\users\\rajar\\anaconda3\\lib\\site-packages (from pandas->lazypredict) (2022.1)\n",
      "Requirement already satisfied: six>=1.5 in c:\\users\\rajar\\anaconda3\\lib\\site-packages (from python-dateutil>=2.8.1->pandas->lazypredict) (1.16.0)\n"
     ]
    }
   ],
   "source": [
    "!pip install lazypredict "
   ]
  },
  {
   "cell_type": "code",
   "execution_count": 18,
   "metadata": {
    "id": "qT4ZTTMG7kSV"
   },
   "outputs": [],
   "source": [
    "import lazypredict \n",
    "from lazypredict import Supervised \n",
    "from lazypredict.Supervised import LazyClassifier\n",
    "from sklearn.model_selection import train_test_split\n",
    "\n",
    "plt.style.use('fivethirtyeight')\n",
    "plt.rcParams[\"figure.figsize\"] = (10,5)\n",
    "\n",
    "# train-test split\n",
    "X_train, X_valid, y_train, y_valid = train_test_split(X, y, test_size=.5, random_state=12)"
   ]
  },
  {
   "cell_type": "code",
   "execution_count": 19,
   "metadata": {
    "colab": {
     "base_uri": "https://localhost:8080/"
    },
    "id": "Pg9uX-3R7kSX",
    "outputId": "82de4200-dba6-4f48-bb1f-ed0a6eb50003"
   },
   "outputs": [
    {
     "name": "stderr",
     "output_type": "stream",
     "text": [
      "100%|██████████| 29/29 [00:30<00:00,  1.06s/it]\n"
     ]
    }
   ],
   "source": [
    "clf = LazyClassifier(verbose=0,\n",
    "                     ignore_warnings=True,\n",
    "                     custom_metric=None,\n",
    "                     random_state=12,\n",
    "                     classifiers='all',\n",
    "                    )\n",
    "models, predictions = clf.fit(X_train, X_valid, y_train, y_valid)"
   ]
  },
  {
   "cell_type": "code",
   "execution_count": 20,
   "metadata": {
    "colab": {
     "base_uri": "https://localhost:8080/",
     "height": 331
    },
    "id": "oZ_4psl87kSX",
    "outputId": "db544556-ddf5-49b0-ffee-bf28e2c2cbfb"
   },
   "outputs": [
    {
     "data": {
      "text/plain": "                        Accuracy  Balanced Accuracy  ROC AUC  F1 Score  \\\nModel                                                                    \nLGBMClassifier              0.98               0.98     0.98      0.98   \nRandomForestClassifier      0.98               0.98     0.98      0.98   \nXGBClassifier               0.97               0.97     0.97      0.97   \nExtraTreesClassifier        0.97               0.97     0.97      0.97   \nBaggingClassifier           0.97               0.97     0.97      0.97   \nDecisionTreeClassifier      0.97               0.97     0.97      0.97   \nExtraTreeClassifier         0.95               0.95     0.95      0.95   \nKNeighborsClassifier        0.94               0.94     0.94      0.94   \n\n                        Time Taken  \nModel                               \nLGBMClassifier                0.14  \nRandomForestClassifier        0.74  \nXGBClassifier                 0.42  \nExtraTreesClassifier          0.55  \nBaggingClassifier             0.16  \nDecisionTreeClassifier        0.05  \nExtraTreeClassifier           0.02  \nKNeighborsClassifier          0.27  ",
      "text/html": "<div>\n<style scoped>\n    .dataframe tbody tr th:only-of-type {\n        vertical-align: middle;\n    }\n\n    .dataframe tbody tr th {\n        vertical-align: top;\n    }\n\n    .dataframe thead th {\n        text-align: right;\n    }\n</style>\n<table border=\"1\" class=\"dataframe\">\n  <thead>\n    <tr style=\"text-align: right;\">\n      <th></th>\n      <th>Accuracy</th>\n      <th>Balanced Accuracy</th>\n      <th>ROC AUC</th>\n      <th>F1 Score</th>\n      <th>Time Taken</th>\n    </tr>\n    <tr>\n      <th>Model</th>\n      <th></th>\n      <th></th>\n      <th></th>\n      <th></th>\n      <th></th>\n    </tr>\n  </thead>\n  <tbody>\n    <tr>\n      <th>LGBMClassifier</th>\n      <td>0.98</td>\n      <td>0.98</td>\n      <td>0.98</td>\n      <td>0.98</td>\n      <td>0.14</td>\n    </tr>\n    <tr>\n      <th>RandomForestClassifier</th>\n      <td>0.98</td>\n      <td>0.98</td>\n      <td>0.98</td>\n      <td>0.98</td>\n      <td>0.74</td>\n    </tr>\n    <tr>\n      <th>XGBClassifier</th>\n      <td>0.97</td>\n      <td>0.97</td>\n      <td>0.97</td>\n      <td>0.97</td>\n      <td>0.42</td>\n    </tr>\n    <tr>\n      <th>ExtraTreesClassifier</th>\n      <td>0.97</td>\n      <td>0.97</td>\n      <td>0.97</td>\n      <td>0.97</td>\n      <td>0.55</td>\n    </tr>\n    <tr>\n      <th>BaggingClassifier</th>\n      <td>0.97</td>\n      <td>0.97</td>\n      <td>0.97</td>\n      <td>0.97</td>\n      <td>0.16</td>\n    </tr>\n    <tr>\n      <th>DecisionTreeClassifier</th>\n      <td>0.97</td>\n      <td>0.97</td>\n      <td>0.97</td>\n      <td>0.97</td>\n      <td>0.05</td>\n    </tr>\n    <tr>\n      <th>ExtraTreeClassifier</th>\n      <td>0.95</td>\n      <td>0.95</td>\n      <td>0.95</td>\n      <td>0.95</td>\n      <td>0.02</td>\n    </tr>\n    <tr>\n      <th>KNeighborsClassifier</th>\n      <td>0.94</td>\n      <td>0.94</td>\n      <td>0.94</td>\n      <td>0.94</td>\n      <td>0.27</td>\n    </tr>\n  </tbody>\n</table>\n</div>"
     },
     "execution_count": 20,
     "metadata": {},
     "output_type": "execute_result"
    }
   ],
   "source": [
    "models.head(8)"
   ]
  },
  {
   "cell_type": "code",
   "execution_count": 21,
   "metadata": {
    "colab": {
     "base_uri": "https://localhost:8080/",
     "height": 383
    },
    "id": "OpxM1n-f7kSY",
    "outputId": "e0d47d2b-1454-4095-f761-c97e66063300"
   },
   "outputs": [
    {
     "data": {
      "text/plain": "<Figure size 1000x500 with 1 Axes>",
      "image/png": "[encoded data removed]"
     },
     "metadata": {},
     "output_type": "display_data"
    }
   ],
   "source": [
    "idx = [i for i in range(1,28)]\n",
    "plt.plot(idx[0:8], models[\"Accuracy\"][0:8]  ,marker='o' , label = \"Accuracy\" )\n",
    "plt.plot(idx[0:8], models[\"ROC AUC\"][0:8] , marker ='o' , label = \"ROC AUC\")\n",
    "plt.annotate(models.index[0] , \n",
    "             (1, models[\"Accuracy\"][0]) , \n",
    "             xytext = (0.7, 0.96),\n",
    "             arrowprops = dict(\n",
    "                               arrowstyle = \"simple\"\n",
    "                              ))\n",
    "plt.annotate(models.index[7] , \n",
    "             (8, models[\"Accuracy\"][7]) , \n",
    "             xytext = (5, models[\"Accuracy\"][7]),\n",
    "             arrowprops = dict(\n",
    "                               arrowstyle = \"simple\"\n",
    "                              ))\n",
    "plt.xlabel(\"Models\")\n",
    "plt.ylabel(\"Metrics\")\n",
    "plt.title(\"Comparison of 8 Different Classifiers\")\n",
    "plt.legend()\n",
    "plt.show()"
   ]
  },
  {
   "cell_type": "markdown",
   "metadata": {
    "id": "VTpyUEMv7kSZ"
   },
   "source": [
    "## XGBOOST Classifier"
   ]
  },
  {
   "cell_type": "code",
   "execution_count": 22,
   "metadata": {
    "colab": {
     "base_uri": "https://localhost:8080/"
    },
    "id": "ul81vDL77kSZ",
    "outputId": "21d9b3f8-372d-4d65-b70f-30292f3e43c0"
   },
   "outputs": [
    {
     "data": {
      "text/plain": "XGBClassifier(base_score=0.5, booster='gbtree', callbacks=None,\n              colsample_bylevel=1, colsample_bynode=1, colsample_bytree=1,\n              early_stopping_rounds=None, enable_categorical=False,\n              eval_metric=None, feature_types=None, gamma=0, gpu_id=-1,\n              grow_policy='depthwise', importance_type=None,\n              interaction_constraints='', learning_rate=0.300000012,\n              max_bin=256, max_cat_threshold=64, max_cat_to_onehot=4,\n              max_delta_step=0, max_depth=6, max_leaves=0, min_child_weight=1,\n              missing=nan, monotone_constraints='()', n_estimators=100,\n              n_jobs=0, num_parallel_tree=1, predictor='auto', random_state=0, ...)"
     },
     "execution_count": 22,
     "metadata": {},
     "output_type": "execute_result"
    }
   ],
   "source": [
    "import xgboost as xgb\n",
    "my_model = xgb.XGBClassifier()\n",
    "my_model.fit(X_train, y_train)"
   ]
  },
  {
   "cell_type": "code",
   "execution_count": 23,
   "metadata": {
    "colab": {
     "base_uri": "https://localhost:8080/"
    },
    "id": "gCFOe8t87kSa",
    "outputId": "ec5d17ea-acad-4dd1-929c-50768d7651ae"
   },
   "outputs": [
    {
     "name": "stdout",
     "output_type": "stream",
     "text": [
      "ROC AUC before parameter tuning: 0.997144163198331\n"
     ]
    }
   ],
   "source": [
    "import sklearn.metrics as metrics\n",
    "y_pred = my_model.predict_proba(X_valid)[:,1]\n",
    "print(\"ROC AUC before parameter tuning:\", metrics.roc_auc_score(y_valid, y_pred))"
   ]
  },
  {
   "cell_type": "code",
   "execution_count": 24,
   "metadata": {
    "colab": {
     "base_uri": "https://localhost:8080/"
    },
    "id": "MOowO-Lr7kSa",
    "outputId": "44547483-1662-48c1-f707-825ab7317e97"
   },
   "outputs": [
    {
     "data": {
      "text/plain": "0.9736814837840638"
     },
     "execution_count": 24,
     "metadata": {},
     "output_type": "execute_result"
    }
   ],
   "source": [
    "from sklearn.metrics import accuracy_score\n",
    "\n",
    "y_pred = my_model.predict(X_valid)\n",
    "y_pred = [round(value) for value in y_pred]\n",
    "\n",
    "# Evaluate predictions\n",
    "accuracy_score(y_valid, y_pred)"
   ]
  },
  {
   "cell_type": "markdown",
   "metadata": {
    "id": "yq4BkuIS7kSb"
   },
   "source": [
    "### Hyper-Parameter Tuning"
   ]
  },
  {
   "cell_type": "code",
   "execution_count": 15,
   "metadata": {
    "colab": {
     "base_uri": "https://localhost:8080/"
    },
    "id": "7d6kD61m7kSb",
    "outputId": "c7a0b608-ab15-436b-960f-abe0e3326195",
    "scrolled": true
   },
   "outputs": [
    {
     "name": "stdout",
     "output_type": "stream",
     "text": [
      "SCORE:                                                 \n",
      "0.9244637861361517                                     \n",
      "SCORE:                                                                            \n",
      "0.9219769972023625                                                                \n",
      "SCORE:                                                                            \n",
      "0.9174178841570821                                                                \n",
      "SCORE:                                                                            \n",
      "0.913066003522951                                                                 \n",
      "SCORE:                                                                            \n",
      "0.9243601699305771                                                                \n",
      "SCORE:                                                                            \n",
      "0.9245674023417263                                                                \n",
      "SCORE:                                                                            \n",
      "0.9268469588643664                                                                \n",
      "SCORE:                                                                            \n",
      "0.9222878458190861                                                                \n",
      "SCORE:                                                                            \n",
      "0.9243601699305771                                                                \n",
      "SCORE:                                                                            \n",
      "0.9243601699305771                                                                \n",
      "SCORE:                                                                             \n",
      "0.915138327634442                                                                  \n",
      "SCORE:                                                                             \n",
      "0.9241529375194281                                                                 \n",
      "SCORE:                                                                             \n",
      "0.9221842296135115                                                                 \n",
      "SCORE:                                                                             \n",
      "0.9166925707180603                                                                 \n",
      "SCORE:                                                                             \n",
      "0.9167961869236348                                                                 \n",
      "SCORE:                                                                             \n",
      "0.920215521707595                                                                  \n",
      "SCORE:                                                                             \n",
      "0.9225986944358098                                                                 \n",
      "SCORE:                                                                             \n",
      "0.9250854833695991                                                                 \n",
      "SCORE:                                                                             \n",
      "0.9227023106413843                                                                 \n",
      "SCORE:                                                                             \n",
      "0.9167961869236348                                                                 \n",
      "SCORE:                                                                             \n",
      "0.9305771422650503                                                                 \n",
      "SCORE:                                                                             \n",
      "0.9316133043207958                                                                 \n",
      "SCORE:                                                                             \n",
      "0.9309916070873485                                                                 \n",
      "SCORE:                                                                             \n",
      "0.9282975857424101                                                                 \n",
      "SCORE:                                                                             \n",
      "0.9286084343591338                                                                 \n",
      "SCORE:                                                                             \n",
      "0.928090353331261                                                                  \n",
      "SCORE:                                                                             \n",
      "0.9178323489793804                                                                 \n",
      "SCORE:                                                                             \n",
      "0.9269505750699409                                                                 \n",
      "SCORE:                                                                             \n",
      "0.9275722723033882                                                                 \n",
      "SCORE:                                                                             \n",
      "0.9279867371256865                                                                 \n",
      "SCORE:                                                                             \n",
      "0.9306807584706248                                                                 \n",
      "SCORE:                                                                             \n",
      "0.9174178841570821                                                                 \n",
      "SCORE:                                                                             \n",
      "0.9281939695368355                                                                 \n",
      "SCORE:                                                                             \n",
      "0.9242565537250026                                                                 \n",
      "SCORE:                                                                             \n",
      "0.9265361102476427                                                                 \n",
      "SCORE:                                                                             \n",
      "0.9253963319863227                                                                 \n",
      "SCORE:                                                                             \n",
      "0.9309916070873485                                                                 \n",
      "SCORE:                                                                             \n",
      "0.9178323489793804                                                                 \n",
      "SCORE:                                                                             \n",
      "0.9175215003626567                                                                 \n",
      "SCORE:                                                                             \n",
      "0.9244637861361517                                                                 \n",
      "SCORE:                                                                             \n",
      "0.9241529375194281                                                                 \n",
      "SCORE:                                                                             \n",
      "0.9281939695368355                                                                 \n",
      "SCORE:                                                                             \n",
      "0.9233240078748316                                                                 \n",
      "SCORE:                                                                             \n",
      "0.9303699098539011                                                                 \n",
      "SCORE:                                                                             \n",
      "0.9178323489793804                                                                 \n",
      "SCORE:                                                                             \n",
      "0.9243601699305771                                                                 \n",
      "SCORE:                                                                             \n",
      "0.9212516837633405                                                                 \n",
      "SCORE:                                                                             \n",
      "0.9186612786239768                                                                 \n",
      "SCORE:                                                                             \n",
      "0.9248782509584499                                                                 \n",
      "SCORE:                                                                             \n",
      "0.9249818671640244                                                                 \n",
      "SCORE:                                                                             \n",
      "0.9164853383069111                                                                 \n",
      "SCORE:                                                                             \n",
      "0.9172106517459331                                                                 \n",
      "SCORE:                                                                             \n",
      "0.9282975857424101                                                                 \n",
      "SCORE:                                                                             \n",
      "0.9263288778364936                                                                 \n",
      "SCORE:                                                                             \n",
      "0.9234276240804061                                                                 \n",
      "SCORE:                                                                             \n",
      "0.9243601699305771                                                                 \n",
      "SCORE:                                                                             \n",
      "0.9281939695368355                                                                 \n",
      "SCORE:                                                                             \n",
      "0.9272614236866646                                                                 \n",
      "SCORE:                                                                             \n",
      "0.9261216454253445                                                                 \n",
      "SCORE:                                                                             \n",
      "0.9233240078748316                                                                 \n",
      "SCORE:                                                                             \n",
      "0.921148067557766                                                                  \n",
      "SCORE:                                                                             \n",
      "0.9291265153870065                                                                 \n",
      "SCORE:                                                                             \n",
      "0.9262252616309191                                                                 \n",
      "SCORE:                                                                             \n",
      "0.9189721272407004                                                                 \n",
      "SCORE:                                                                             \n",
      "0.9187648948295514                                                                 \n",
      "SCORE:                                                                             \n",
      "0.9314060719096466                                                                 \n",
      "SCORE:                                                                             \n",
      "0.9297482126204538                                                                 \n",
      "SCORE:                                                                             \n",
      "0.9274686560978137                                                                 \n",
      "SCORE:                                                                             \n",
      "0.9276758885089628                                                                 \n",
      "SCORE:                                                                             \n",
      "0.9294373640037302                                                                 \n",
      "SCORE:                                                                             \n",
      "0.9269505750699409                                                                 \n",
      "SCORE:                                                                             \n",
      "0.929022899181432                                                                  \n",
      "SCORE:                                                                             \n",
      "0.9287120505647083                                                                 \n",
      "SCORE:                                                                             \n",
      "0.9282975857424101                                                                 \n",
      "SCORE:                                                                             \n",
      "0.9284012019479847                                                                 \n",
      "SCORE:                                                                             \n",
      "0.9284012019479847                                                                 \n",
      "SCORE:                                                                             \n",
      "0.9249818671640244                                                                 \n",
      "SCORE:                                                                             \n",
      "0.9253963319863227                                                                 \n",
      "SCORE:                                                                             \n",
      "0.9172106517459331                                                                 \n",
      "SCORE:                                                                             \n",
      "0.9246710185473008                                                                 \n",
      "SCORE:                                                                             \n",
      "0.9272614236866646                                                                 \n",
      "SCORE:                                                                             \n",
      "0.9247746347528754                                                                 \n",
      "SCORE:                                                                             \n",
      "0.9281939695368355                                                                 \n",
      "SCORE:                                                                             \n",
      "0.9216661485856388                                                                 \n",
      "SCORE:                                                                             \n",
      "0.9187648948295514                                                                 \n",
      "SCORE:                                                                             \n",
      "0.928090353331261                                                                  \n",
      "SCORE:                                                                             \n",
      "0.9274686560978137                                                                 \n",
      "SCORE:                                                                             \n",
      "0.9243601699305771                                                                 \n",
      "SCORE:                                                                             \n",
      "0.9244637861361517                                                                 \n",
      "SCORE:                                                                             \n",
      "0.9165889545124858                                                                 \n",
      "SCORE:                                                                             \n",
      "0.9132732359341001                                                                 \n",
      "SCORE:                                                                             \n",
      "0.9284012019479847                                                                 \n",
      "SCORE:                                                                             \n",
      "0.9287120505647083                                                                 \n",
      "SCORE:                                                                             \n",
      "0.9241529375194281                                                                 \n",
      "SCORE:                                                                             \n",
      "0.9259144130141954                                                                 \n",
      "SCORE:                                                                             \n",
      "0.9176251165682313                                                                 \n",
      "SCORE:                                                                             \n",
      "0.9182468138016786                                                                 \n",
      "SCORE:                                                                             \n",
      "0.9248782509584499                                                                 \n",
      "SCORE:                                                                             \n",
      "0.9227023106413843                                                                 \n",
      "SCORE:                                                                             \n",
      "0.9170034193347839                                                                 \n",
      "100%|██████████| 100/100 [01:14<00:00,  1.35trial/s, best loss: -0.9316133043207958]\n"
     ]
    }
   ],
   "source": [
    "# For hyperparameters tuning\n",
    "from hyperopt import STATUS_OK, Trials, fmin, hp, tpe\n",
    "\n",
    "space={'max_depth': hp.quniform(\"max_depth\", 3, 18, 1),\n",
    "        'gamma': hp.uniform ('gamma', 1,9),\n",
    "        'reg_alpha' : hp.quniform('reg_alpha', 40,180,1),\n",
    "        'reg_lambda' : hp.uniform('reg_lambda', 0,1),\n",
    "        'colsample_bytree' : hp.uniform('colsample_bytree', 0.5,1),\n",
    "        'min_child_weight' : hp.quniform('min_child_weight', 0, 10, 1),\n",
    "        'n_estimators': 180,\n",
    "        'seed': 0\n",
    "    }\n",
    "\n",
    "def objective(space):\n",
    "    clf=xgb.XGBClassifier(\n",
    "                    n_estimators =space['n_estimators'], max_depth = int(space['max_depth']), gamma = space['gamma'],\n",
    "                    reg_alpha = int(space['reg_alpha']),min_child_weight=int(space['min_child_weight']),\n",
    "                    colsample_bytree=int(space['colsample_bytree']))\n",
    "    \n",
    "    evaluation = [( X_train, y_train), ( X_valid, y_valid)]\n",
    "    \n",
    "    clf.fit(X_train, y_train,\n",
    "            eval_set=evaluation, eval_metric=\"auc\",\n",
    "            early_stopping_rounds=10,verbose=False)\n",
    "    \n",
    "\n",
    "    pred = clf.predict(X_valid)\n",
    "    accuracy = accuracy_score(y_valid, pred>0.5)\n",
    "    print (\"SCORE:\", accuracy)\n",
    "    return {'loss': -accuracy, 'status': STATUS_OK }\n",
    "\n",
    "trials = Trials()\n",
    "\n",
    "best_hyperparams = fmin(fn = objective,\n",
    "                        space = space,\n",
    "                        algo = tpe.suggest,\n",
    "                        max_evals = 100,\n",
    "                        trials = trials)"
   ]
  },
  {
   "cell_type": "code",
   "execution_count": 16,
   "metadata": {
    "colab": {
     "base_uri": "https://localhost:8080/"
    },
    "id": "v4_fBQ0t7kSc",
    "outputId": "7e9d9ca7-01a5-4e3d-ae88-f5cf79b162ba"
   },
   "outputs": [
    {
     "name": "stdout",
     "output_type": "stream",
     "text": [
      "The best hyperparameters are :  \n",
      "\n",
      "{'colsample_bytree': 0.826100671264752, 'gamma': 1.271799394974182, 'max_depth': 3.0, 'min_child_weight': 2.0, 'reg_alpha': 42.0, 'reg_lambda': 0.3682570109414159}\n"
     ]
    }
   ],
   "source": [
    "print(\"The best hyperparameters are : \",\"\\n\")\n",
    "print(best_hyperparams)"
   ]
  },
  {
   "cell_type": "code",
   "execution_count": 27,
   "metadata": {
    "colab": {
     "base_uri": "https://localhost:8080/"
    },
    "id": "8aPPF5WM7kSd",
    "outputId": "83ac56e8-b364-46cd-daf0-1b7020932827"
   },
   "outputs": [
    {
     "data": {
      "text/plain": "XGBClassifier(base_score=0.5, booster='gbtree', callbacks=None,\n              colsample_bylevel=1, colsample_bynode=1,\n              colsample_bytree=0.998807267028738, early_stopping_rounds=None,\n              enable_categorical=False, eval_metric=None, feature_types=None,\n              gamma=1.321962425893548, gpu_id=-1, grow_policy='depthwise',\n              importance_type=None, interaction_constraints='',\n              learning_rate=0.300000012, max_bin=256, max_cat_threshold=64,\n              max_cat_to_onehot=4, max_delta_step=0, max_depth=10, max_leaves=0,\n              min_child_weight=0.0, missing=nan, monotone_constraints='()',\n              n_estimators=100, n_jobs=0, num_parallel_tree=1, predictor='auto',\n              random_state=0, ...)"
     },
     "execution_count": 27,
     "metadata": {},
     "output_type": "execute_result"
    }
   ],
   "source": [
    "tuned_xgb = xgb.XGBClassifier(colsample_bytree= 0.998807267028738, gamma= 1.321962425893548,max_depth=10, min_child_weight= 0.0, reg_alpha=43.0, reg_lambda= 0.4888063780234211)\n",
    "tuned_xgb.fit(X_train, y_train)"
   ]
  },
  {
   "cell_type": "code",
   "execution_count": 28,
   "metadata": {
    "colab": {
     "base_uri": "https://localhost:8080/"
    },
    "id": "S4VCl2iR7kSd",
    "outputId": "aaaf3553-f742-4904-a53b-67ff4815e1df"
   },
   "outputs": [
    {
     "data": {
      "text/plain": "0.9585535177701793"
     },
     "execution_count": 28,
     "metadata": {},
     "output_type": "execute_result"
    }
   ],
   "source": [
    "y_pred = tuned_xgb.predict(X_valid)\n",
    "y_pred = [round(value) for value in y_pred]\n",
    "\n",
    "# Evaluate predictions\n",
    "accuracy_score(y_valid, y_pred)"
   ]
  },
  {
   "cell_type": "code",
   "execution_count": 29,
   "metadata": {
    "colab": {
     "base_uri": "https://localhost:8080/"
    },
    "id": "ZiIgyLFh7kSe",
    "outputId": "84439683-b043-4d94-dc9d-76b19bf80e08"
   },
   "outputs": [
    {
     "name": "stdout",
     "output_type": "stream",
     "text": [
      "ROC AUC after parameter tuning: 0.9909551639892283\n"
     ]
    }
   ],
   "source": [
    "y_pred = tuned_xgb.predict_proba(X_valid)[:,1]\n",
    "print(\"ROC AUC after parameter tuning:\", metrics.roc_auc_score(y_valid, y_pred))"
   ]
  },
  {
   "cell_type": "markdown",
   "metadata": {
    "id": "nYypGOe47kSe"
   },
   "source": [
    "After comparing ROC AUC of before and after parameter tuning, we can conclude that our model is performing better without tuning and has the best parameters by default."
   ]
  },
  {
   "cell_type": "markdown",
   "metadata": {
    "id": "-jNzBjeT7kSf"
   },
   "source": [
    "## LightGBM Classifier"
   ]
  },
  {
   "cell_type": "code",
   "execution_count": 30,
   "metadata": {
    "colab": {
     "base_uri": "https://localhost:8080/"
    },
    "id": "PJRG-Syl7kSf",
    "outputId": "a3c2a23b-57b3-4a41-e186-c9d37f51b3a3"
   },
   "outputs": [
    {
     "data": {
      "text/plain": "LGBMClassifier()"
     },
     "execution_count": 30,
     "metadata": {},
     "output_type": "execute_result"
    }
   ],
   "source": [
    "from lightgbm import LGBMClassifier\n",
    "model = LGBMClassifier()\n",
    "model.fit(X_train, y_train)"
   ]
  },
  {
   "cell_type": "code",
   "execution_count": 31,
   "metadata": {
    "colab": {
     "base_uri": "https://localhost:8080/"
    },
    "id": "2JdlGiF07kSf",
    "outputId": "3844226d-30ec-4e9a-e0ea-cae4572ab06b"
   },
   "outputs": [
    {
     "data": {
      "text/plain": "0.9759610403067039"
     },
     "execution_count": 31,
     "metadata": {},
     "output_type": "execute_result"
    }
   ],
   "source": [
    "y_pred = model.predict(X_valid)\n",
    "y_pred = [round(value) for value in y_pred]\n",
    "\n",
    "accuracy_score(y_valid, y_pred)"
   ]
  },
  {
   "cell_type": "code",
   "execution_count": 32,
   "metadata": {
    "colab": {
     "base_uri": "https://localhost:8080/"
    },
    "id": "26nVmikt7kSg",
    "outputId": "502d85a8-02fd-4dd9-d0e7-1a50bd8da457"
   },
   "outputs": [
    {
     "name": "stdout",
     "output_type": "stream",
     "text": [
      "ROC AUC before parameter tuning: 0.9972356600900565\n"
     ]
    }
   ],
   "source": [
    "y_pred = model.predict_proba(X_valid)[:,1]\n",
    "print(\"ROC AUC before parameter tuning:\", metrics.roc_auc_score(y_valid, y_pred))"
   ]
  },
  {
   "cell_type": "markdown",
   "metadata": {
    "id": "8NTzH9iJ7kSg"
   },
   "source": [
    "### Hyper-Parameter Tuning of LightGBM Classifier"
   ]
  },
  {
   "cell_type": "code",
   "execution_count": 33,
   "metadata": {
    "colab": {
     "base_uri": "https://localhost:8080/"
    },
    "id": "7a__dMlW7kSh",
    "outputId": "616a1e63-c796-4fc3-9b88-2ea3d9c07068"
   },
   "outputs": [
    {
     "data": {
      "text/plain": "LGBMClassifier(colsample_bytree=0.9234, metric='None', min_child_samples=399,\n               min_child_weight=0.1, n_estimators=5000, n_jobs=4, num_leaves=13,\n               random_state=314, reg_alpha=2, reg_lambda=5, silent=True,\n               subsample=0.855)"
     },
     "execution_count": 33,
     "metadata": {},
     "output_type": "execute_result"
    }
   ],
   "source": [
    "import lightgbm as lgb\n",
    "from scipy.stats import randint as sp_randint\n",
    "from scipy.stats import uniform as sp_uniform\n",
    "from sklearn.model_selection import RandomizedSearchCV, GridSearchCV\n",
    "\n",
    "fit_params = {\"early_stopping_rounds\":30, \"eval_metric\" : 'auc', \"eval_set\" : [(X_valid,y_valid)],\n",
    "            'eval_names': ['valid'], 'verbose': 100, 'categorical_feature': 'auto'}\n",
    "\n",
    "test_params = {'num_leaves': sp_randint(6, 50), 'min_child_samples': sp_randint(100, 500), \n",
    "             'min_child_weight': [1e-5, 1e-3, 1e-2, 1e-1, 1, 1e1, 1e2, 1e3, 1e4],\n",
    "             'subsample': sp_uniform(loc=0.2, scale=0.8), \n",
    "             'colsample_bytree': sp_uniform(loc=0.4, scale=0.6),\n",
    "             'reg_alpha': [0, 1e-1, 1, 2, 5, 7, 10, 50, 100],\n",
    "             'reg_lambda': [0, 1e-1, 1, 5, 10, 20, 50, 100]}\n",
    "\n",
    "# Parameter defining the number of HP points to be tested\n",
    "hp_points = 100\n",
    "\n",
    "# n_estimators is set to a \"large value\". The actual number of trees build will depend on early stopping and 5000 define only the absolute maximum\n",
    "clf = lgb.LGBMClassifier(max_depth=-1, random_state=314, silent=True, metric='None', n_jobs=4, n_estimators=5000)\n",
    "gs = RandomizedSearchCV(estimator=clf, param_distributions=test_params, \n",
    "    n_iter=hp_points, scoring='roc_auc', cv=3, refit=True, random_state=314, verbose=True)\n",
    "\n",
    "# Optimal parameters\n",
    "opt_parameters = {'colsample_bytree': 0.9234, 'min_child_samples': 399, 'min_child_weight': 0.1, 'num_leaves': 13, 'reg_alpha': 2, 'reg_lambda': 5, 'subsample': 0.855}\n",
    "\n",
    "clf_sw = lgb.LGBMClassifier(**clf.get_params())\n",
    "# Set optimal parameters\n",
    "clf_sw.set_params(**opt_parameters)"
   ]
  },
  {
   "cell_type": "code",
   "execution_count": 34,
   "metadata": {
    "colab": {
     "base_uri": "https://localhost:8080/"
    },
    "id": "tRHQj7i47kSh",
    "outputId": "51784925-57d2-491d-9386-ae84a762d569",
    "scrolled": true
   },
   "outputs": [
    {
     "name": "stdout",
     "output_type": "stream",
     "text": [
      "Fitting 5 folds for each of 4 candidates, totalling 20 fits\n",
      "[100]\tvalid's auc: 0.994374\n",
      "[200]\tvalid's auc: 0.996063\n",
      "[300]\tvalid's auc: 0.996414\n",
      "[400]\tvalid's auc: 0.996526\n",
      "[100]\tvalid's auc: 0.994619\n",
      "[200]\tvalid's auc: 0.996268\n",
      "[300]\tvalid's auc: 0.99657\n",
      "[400]\tvalid's auc: 0.996747\n",
      "[500]\tvalid's auc: 0.996824\n",
      "[100]\tvalid's auc: 0.994651\n",
      "[200]\tvalid's auc: 0.99626\n",
      "[300]\tvalid's auc: 0.996725\n",
      "[400]\tvalid's auc: 0.996797\n",
      "[100]\tvalid's auc: 0.994594\n",
      "[200]\tvalid's auc: 0.996414\n",
      "[300]\tvalid's auc: 0.996824\n",
      "[400]\tvalid's auc: 0.996974\n",
      "[100]\tvalid's auc: 0.99496\n",
      "[200]\tvalid's auc: 0.996429\n",
      "[300]\tvalid's auc: 0.996715\n",
      "[400]\tvalid's auc: 0.996827\n",
      "[100]\tvalid's auc: 0.995017\n",
      "[200]\tvalid's auc: 0.996213\n",
      "[300]\tvalid's auc: 0.99644\n",
      "[400]\tvalid's auc: 0.996515\n",
      "[500]\tvalid's auc: 0.996565\n",
      "[600]\tvalid's auc: 0.996644\n",
      "[100]\tvalid's auc: 0.994785\n",
      "[200]\tvalid's auc: 0.996401\n",
      "[300]\tvalid's auc: 0.996799\n",
      "[400]\tvalid's auc: 0.996929\n",
      "[500]\tvalid's auc: 0.997003\n",
      "[100]\tvalid's auc: 0.994936\n",
      "[200]\tvalid's auc: 0.996478\n",
      "[300]\tvalid's auc: 0.996798\n",
      "[400]\tvalid's auc: 0.996859\n",
      "[500]\tvalid's auc: 0.996916\n",
      "[100]\tvalid's auc: 0.995029\n",
      "[200]\tvalid's auc: 0.996613\n",
      "[300]\tvalid's auc: 0.996871\n",
      "[400]\tvalid's auc: 0.997012\n",
      "[100]\tvalid's auc: 0.995292\n",
      "[200]\tvalid's auc: 0.99663\n",
      "[300]\tvalid's auc: 0.9969\n",
      "[400]\tvalid's auc: 0.996967\n",
      "[500]\tvalid's auc: 0.996995\n",
      "[100]\tvalid's auc: 0.994811\n",
      "[200]\tvalid's auc: 0.996403\n",
      "[300]\tvalid's auc: 0.996556\n",
      "[100]\tvalid's auc: 0.994695\n",
      "[200]\tvalid's auc: 0.996546\n",
      "[300]\tvalid's auc: 0.99692\n",
      "[400]\tvalid's auc: 0.997068\n",
      "[100]\tvalid's auc: 0.994614\n",
      "[200]\tvalid's auc: 0.996721\n",
      "[300]\tvalid's auc: 0.997008\n",
      "[100]\tvalid's auc: 0.994963\n",
      "[200]\tvalid's auc: 0.996635\n",
      "[300]\tvalid's auc: 0.99696\n",
      "[400]\tvalid's auc: 0.996992\n",
      "[100]\tvalid's auc: 0.994686\n",
      "[200]\tvalid's auc: 0.996607\n",
      "[300]\tvalid's auc: 0.996875\n",
      "[400]\tvalid's auc: 0.996979\n",
      "[100]\tvalid's auc: 0.99448\n",
      "[200]\tvalid's auc: 0.99649\n",
      "[100]\tvalid's auc: 0.994184\n",
      "[200]\tvalid's auc: 0.996667\n",
      "[300]\tvalid's auc: 0.996925\n",
      "[400]\tvalid's auc: 0.997046\n",
      "[500]\tvalid's auc: 0.997106\n",
      "[100]\tvalid's auc: 0.994287\n",
      "[200]\tvalid's auc: 0.996679\n",
      "[300]\tvalid's auc: 0.996921\n",
      "[400]\tvalid's auc: 0.997051\n",
      "[100]\tvalid's auc: 0.994175\n",
      "[200]\tvalid's auc: 0.996464\n",
      "[300]\tvalid's auc: 0.996733\n",
      "[400]\tvalid's auc: 0.996847\n",
      "[500]\tvalid's auc: 0.996893\n",
      "[100]\tvalid's auc: 0.994582\n",
      "[200]\tvalid's auc: 0.996566\n",
      "[300]\tvalid's auc: 0.99687\n",
      "[100]\tvalid's auc: 0.995799\n",
      "[200]\tvalid's auc: 0.996819\n",
      "[300]\tvalid's auc: 0.997119\n",
      "[400]\tvalid's auc: 0.997169\n",
      "Best score reached: 0.9969737160350783 with params: {'scale_pos_weight': 6} \n"
     ]
    }
   ],
   "source": [
    "gs_sample_weight = GridSearchCV(estimator=clf_sw, param_grid={'scale_pos_weight':[1,2,6,12]},\n",
    "                                scoring='roc_auc', cv=5, refit=True, verbose=True)\n",
    "\n",
    "gs_sample_weight.fit(X_train, y_train, **fit_params)\n",
    "print('Best score reached: {} with params: {} '.format(gs_sample_weight.best_score_, gs_sample_weight.best_params_))"
   ]
  },
  {
   "cell_type": "code",
   "execution_count": 35,
   "metadata": {
    "colab": {
     "base_uri": "https://localhost:8080/"
    },
    "id": "7L3eQpeJ7kSi",
    "outputId": "aa75bd98-44d3-4165-a60a-e7dd15959a67",
    "scrolled": true
   },
   "outputs": [
    {
     "name": "stdout",
     "output_type": "stream",
     "text": [
      "[100]\tvalid's auc: 0.994591\n",
      "[200]\tvalid's auc: 0.99607\n",
      "[300]\tvalid's auc: 0.996426\n",
      "[400]\tvalid's auc: 0.996515\n",
      "[500]\tvalid's auc: 0.996576\n",
      "[600]\tvalid's auc: 0.996613\n",
      "[700]\tvalid's auc: 0.996628\n",
      "[800]\tvalid's auc: 0.996637\n",
      "[900]\tvalid's auc: 0.996645\n",
      "[1000]\tvalid's auc: 0.99665\n",
      "[1100]\tvalid's auc: 0.996657\n",
      "[1200]\tvalid's auc: 0.996661\n",
      "[1300]\tvalid's auc: 0.996666\n",
      "[1400]\tvalid's auc: 0.99667\n",
      "[1500]\tvalid's auc: 0.996676\n",
      "[1600]\tvalid's auc: 0.996682\n",
      "[1700]\tvalid's auc: 0.996686\n",
      "[1800]\tvalid's auc: 0.996688\n"
     ]
    },
    {
     "data": {
      "text/plain": "LGBMClassifier(colsample_bytree=0.9234, metric='None', min_child_samples=399,\n               min_child_weight=0.1, n_estimators=5000, n_jobs=4, num_leaves=13,\n               random_state=314, reg_alpha=2, reg_lambda=5, silent=True,\n               subsample=0.855)"
     },
     "execution_count": 35,
     "metadata": {},
     "output_type": "execute_result"
    }
   ],
   "source": [
    "def learning_rate_decay_power(current_iter):\n",
    "    base_learning_rate = 0.1\n",
    "    lr = base_learning_rate  * np.power(0.995, current_iter)\n",
    "    return lr if lr > 1e-3 else 1e-3\n",
    "\n",
    "# Configure locally from hardcoded values\n",
    "clf_final = lgb.LGBMClassifier(**clf.get_params())\n",
    "\n",
    "# Set optimal parameters\n",
    "clf_final.set_params(**opt_parameters)\n",
    "\n",
    "# Train the final model with learning rate decay\n",
    "clf_final.fit(X_train, y_train, **fit_params, callbacks=[lgb.reset_parameter(learning_rate = learning_rate_decay_power)])"
   ]
  },
  {
   "cell_type": "code",
   "execution_count": 36,
   "metadata": {
    "colab": {
     "base_uri": "https://localhost:8080/"
    },
    "id": "XWZb9Pt-7kSi",
    "outputId": "bb289adc-e8d0-46ad-c090-6ca33a561619"
   },
   "outputs": [
    {
     "data": {
      "text/plain": "LGBMClassifier(colsample_bytree=0.9234, metric='None', min_child_samples=399,\n               min_child_weight=0.1, n_estimators=5000, n_jobs=4, num_leaves=13,\n               random_state=314, reg_alpha=2, reg_lambda=5, silent=True,\n               subsample=0.855)"
     },
     "execution_count": 36,
     "metadata": {},
     "output_type": "execute_result"
    }
   ],
   "source": [
    "clf_final"
   ]
  },
  {
   "cell_type": "code",
   "execution_count": 37,
   "metadata": {
    "colab": {
     "base_uri": "https://localhost:8080/"
    },
    "id": "aj3BFJkF7kSj",
    "outputId": "b7cfc3f7-aaea-46a4-da97-f643fefd804c",
    "scrolled": true
   },
   "outputs": [
    {
     "name": "stdout",
     "output_type": "stream",
     "text": [
      "ROC AUC after parameter tuning: 0.9966888260500003\n"
     ]
    }
   ],
   "source": [
    "y_pred = clf_final.predict_proba(X_valid)[:,1]\n",
    "print(\"ROC AUC after parameter tuning:\", metrics.roc_auc_score(y_valid, y_pred))"
   ]
  },
  {
   "cell_type": "markdown",
   "metadata": {
    "id": "SZah26KI7kSk"
   },
   "source": [
    "After comparing ROC AUC of before and after parameter tuning, we can conclude that our model is performing better without tuning and has the best parameters by default."
   ]
  },
  {
   "cell_type": "markdown",
   "metadata": {},
   "source": [
    "## RandomForest Classifier"
   ]
  },
  {
   "cell_type": "code",
   "execution_count": 38,
   "metadata": {},
   "outputs": [
    {
     "data": {
      "text/plain": "RandomForestClassifier()"
     },
     "execution_count": 38,
     "metadata": {},
     "output_type": "execute_result"
    }
   ],
   "source": [
    "from sklearn.ensemble import RandomForestClassifier\n",
    "\n",
    "clf = RandomForestClassifier() \n",
    "clf.fit(X_train, y_train)"
   ]
  },
  {
   "cell_type": "code",
   "execution_count": 39,
   "metadata": {},
   "outputs": [
    {
     "data": {
      "text/plain": "0.9759610403067039"
     },
     "execution_count": 39,
     "metadata": {},
     "output_type": "execute_result"
    }
   ],
   "source": [
    "y_pred = clf.predict(X_valid)\n",
    "y_pred = [round(value) for value in y_pred]\n",
    "\n",
    "accuracy_score(y_valid, y_pred)"
   ]
  },
  {
   "cell_type": "code",
   "execution_count": 40,
   "metadata": {},
   "outputs": [
    {
     "name": "stdout",
     "output_type": "stream",
     "text": [
      "ROC AUC: 0.9967425302805109\n"
     ]
    }
   ],
   "source": [
    "y_pred = clf.predict_proba(X_valid)[:,1]\n",
    "print(\"ROC AUC:\", metrics.roc_auc_score(y_valid, y_pred))"
   ]
  },
  {
   "cell_type": "markdown",
   "metadata": {},
   "source": [
    "## Extra Trees Classifier"
   ]
  },
  {
   "cell_type": "markdown",
   "metadata": {},
   "source": [
    "**Extremely Randomized Trees Classifier(Extra Trees Classifier)** is a type of ensemble learning technique which aggregates the results of multiple de-correlated decision trees collected in a “forest” to output it’s classification result. In concept, it is very similar to a Random Forest Classifier and only differs from it in the manner of construction of the decision trees in the forest."
   ]
  },
  {
   "cell_type": "code",
   "execution_count": 41,
   "metadata": {},
   "outputs": [
    {
     "data": {
      "text/plain": "ExtraTreesClassifier()"
     },
     "execution_count": 41,
     "metadata": {},
     "output_type": "execute_result"
    }
   ],
   "source": [
    "from sklearn.ensemble import ExtraTreesClassifier\n",
    "\n",
    "ex_clf = ExtraTreesClassifier()\n",
    "ex_clf.fit(X_train, y_train)"
   ]
  },
  {
   "cell_type": "code",
   "execution_count": 42,
   "metadata": {},
   "outputs": [
    {
     "data": {
      "text/plain": "0.9724380893171692"
     },
     "execution_count": 42,
     "metadata": {},
     "output_type": "execute_result"
    }
   ],
   "source": [
    "y_pred = ex_clf.predict(X_valid)\n",
    "y_pred = [round(value) for value in y_pred]\n",
    "\n",
    "accuracy_score(y_valid, y_pred)"
   ]
  },
  {
   "cell_type": "code",
   "execution_count": 43,
   "metadata": {},
   "outputs": [
    {
     "name": "stdout",
     "output_type": "stream",
     "text": [
      "ROC AUC: 0.9953848933456744\n"
     ]
    }
   ],
   "source": [
    "y_pred = ex_clf.predict_proba(X_valid)[:,1]\n",
    "print(\"ROC AUC:\", metrics.roc_auc_score(y_valid, y_pred))"
   ]
  },
  {
   "cell_type": "markdown",
   "metadata": {},
   "source": [
    "## Decision Tree Classifier"
   ]
  },
  {
   "cell_type": "code",
   "execution_count": 44,
   "metadata": {},
   "outputs": [
    {
     "data": {
      "text/plain": "DecisionTreeClassifier()"
     },
     "execution_count": 44,
     "metadata": {},
     "output_type": "execute_result"
    }
   ],
   "source": [
    "from sklearn.tree import DecisionTreeClassifier\n",
    "dc_clf = DecisionTreeClassifier()\n",
    "dc_clf.fit(X_train, y_train)"
   ]
  },
  {
   "cell_type": "code",
   "execution_count": 45,
   "metadata": {},
   "outputs": [
    {
     "data": {
      "text/plain": "0.9665319655994198"
     },
     "execution_count": 45,
     "metadata": {},
     "output_type": "execute_result"
    }
   ],
   "source": [
    "y_pred = dc_clf.predict(X_valid)\n",
    "y_pred = [round(value) for value in y_pred]\n",
    "\n",
    "accuracy_score(y_valid, y_pred)"
   ]
  },
  {
   "cell_type": "code",
   "execution_count": 46,
   "metadata": {},
   "outputs": [
    {
     "name": "stdout",
     "output_type": "stream",
     "text": [
      "ROC AUC: 0.9665114290161059\n"
     ]
    }
   ],
   "source": [
    "y_pred = dc_clf.predict_proba(X_valid)[:,1]\n",
    "print(\"ROC AUC:\", metrics.roc_auc_score(y_valid, y_pred))"
   ]
  },
  {
   "cell_type": "markdown",
   "metadata": {},
   "source": [
    "## Bagging Classifier"
   ]
  },
  {
   "cell_type": "markdown",
   "metadata": {},
   "source": [
    "A Bagging classifier is an ensemble meta-estimator that fits base classifiers each on random subsets of the original dataset and then aggregate their individual predictions (either by voting or by averaging) to form a final prediction. Such a meta-estimator can typically be used as a way to reduce the variance of a black-box estimator (e.g., a decision tree), by introducing randomization into its construction procedure and then making an ensemble out of it."
   ]
  },
  {
   "cell_type": "code",
   "execution_count": 47,
   "metadata": {},
   "outputs": [
    {
     "data": {
      "text/plain": "0.9757538078955549"
     },
     "execution_count": 47,
     "metadata": {},
     "output_type": "execute_result"
    }
   ],
   "source": [
    "from sklearn.ensemble import BaggingClassifier\n",
    "from sklearn import model_selection\n",
    "\n",
    "kfold = model_selection.KFold(n_splits = 3)\n",
    "\n",
    "# Initialize the base classifier\n",
    "base_cls = DecisionTreeClassifier()\n",
    "\n",
    "# no. of base classifier\n",
    "num_trees = 50\n",
    "# bagging classifier\n",
    "model = BaggingClassifier(base_estimator = base_cls,\n",
    "                          n_estimators = num_trees)\n",
    "\n",
    "results = model_selection.cross_val_score(model, X_valid, y_valid, cv = kfold)\n",
    "results.max()"
   ]
  },
  {
   "cell_type": "code",
   "execution_count": 48,
   "metadata": {},
   "outputs": [
    {
     "data": {
      "text/plain": "0.9735778675784893"
     },
     "execution_count": 48,
     "metadata": {},
     "output_type": "execute_result"
    }
   ],
   "source": [
    "results.mean()"
   ]
  },
  {
   "cell_type": "code",
   "execution_count": 49,
   "metadata": {},
   "outputs": [
    {
     "data": {
      "text/plain": "0.9722308569060201"
     },
     "execution_count": 49,
     "metadata": {},
     "output_type": "execute_result"
    }
   ],
   "source": [
    "model.fit(X_train, y_train)\n",
    "y_pred = model.predict(X_valid)\n",
    "y_pred = [round(value) for value in y_pred]\n",
    "\n",
    "accuracy_score(y_valid, y_pred)"
   ]
  },
  {
   "cell_type": "code",
   "execution_count": 50,
   "metadata": {},
   "outputs": [
    {
     "name": "stdout",
     "output_type": "stream",
     "text": [
      "ROC AUC: 0.9945208801017517\n"
     ]
    }
   ],
   "source": [
    "y_pred = model.predict_proba(X_valid)[:,1]\n",
    "print(\"ROC AUC:\", metrics.roc_auc_score(y_valid, y_pred))"
   ]
  },
  {
   "cell_type": "markdown",
   "metadata": {},
   "source": [
    "## ExtraTree Classifier"
   ]
  },
  {
   "cell_type": "code",
   "execution_count": 51,
   "metadata": {},
   "outputs": [
    {
     "data": {
      "text/plain": "ExtraTreesClassifier(n_estimators=1)"
     },
     "execution_count": 51,
     "metadata": {},
     "output_type": "execute_result"
    }
   ],
   "source": [
    "ex_clf = ExtraTreesClassifier(n_estimators=1)\n",
    "ex_clf.fit(X_train, y_train)"
   ]
  },
  {
   "cell_type": "code",
   "execution_count": 52,
   "metadata": {},
   "outputs": [
    {
     "data": {
      "text/plain": "0.9298518288260283"
     },
     "execution_count": 52,
     "metadata": {},
     "output_type": "execute_result"
    }
   ],
   "source": [
    "y_pred = ex_clf.predict(X_valid)\n",
    "y_pred = [round(value) for value in y_pred]\n",
    "\n",
    "accuracy_score(y_valid, y_pred)"
   ]
  },
  {
   "cell_type": "code",
   "execution_count": 53,
   "metadata": {
    "scrolled": true
   },
   "outputs": [
    {
     "name": "stdout",
     "output_type": "stream",
     "text": [
      "ROC AUC: 0.9298237307334731\n"
     ]
    }
   ],
   "source": [
    "y_pred = ex_clf.predict_proba(X_valid)[:,1]\n",
    "print(\"ROC AUC:\", metrics.roc_auc_score(y_valid, y_pred))"
   ]
  },
  {
   "cell_type": "markdown",
   "metadata": {},
   "source": [
    "## KNeighbors Classifier"
   ]
  },
  {
   "cell_type": "code",
   "execution_count": 54,
   "metadata": {},
   "outputs": [
    {
     "data": {
      "text/plain": "KNeighborsClassifier()"
     },
     "execution_count": 54,
     "metadata": {},
     "output_type": "execute_result"
    }
   ],
   "source": [
    "from sklearn.neighbors import KNeighborsClassifier\n",
    "\n",
    "k_clf = KNeighborsClassifier()\n",
    "k_clf.fit(X_train, y_train)"
   ]
  },
  {
   "cell_type": "code",
   "execution_count": 55,
   "metadata": {},
   "outputs": [
    {
     "data": {
      "text/plain": "0.9487099782405968"
     },
     "execution_count": 55,
     "metadata": {},
     "output_type": "execute_result"
    }
   ],
   "source": [
    "y_pred = k_clf.predict(X_valid)\n",
    "y_pred = [round(value) for value in y_pred]\n",
    "\n",
    "accuracy_score(y_valid, y_pred)"
   ]
  },
  {
   "cell_type": "code",
   "execution_count": 56,
   "metadata": {},
   "outputs": [
    {
     "name": "stdout",
     "output_type": "stream",
     "text": [
      "ROC AUC: 0.9805100025149298\n"
     ]
    }
   ],
   "source": [
    "y_pred = k_clf.predict_proba(X_valid)[:,1]\n",
    "print(\"ROC AUC:\", metrics.roc_auc_score(y_valid, y_pred))"
   ]
  },
  {
   "cell_type": "markdown",
   "metadata": {
    "id": "Xl_3-nao7kSk"
   },
   "source": [
    "### Conclusion\n",
    "\n",
    "After observing and comparing total of 8 different classifiers, we saw that LightGBMClassifier, XGBoost, and RandonForestClassifier are performing approximately similar but LightGBMClassifier is 3 times faster which will boost the performace of our overall system. So we will be using **LightGBMClassifier**."
   ]
  }
 ],
 "metadata": {
  "colab": {
   "provenance": []
  },
  "kernelspec": {
   "display_name": "Python 3",
   "language": "python",
   "name": "python3"
  },
  "language_info": {
   "codemirror_mode": {
    "name": "ipython",
    "version": 3
   },
   "file_extension": ".py",
   "mimetype": "text/x-python",
   "name": "python",
   "nbconvert_exporter": "python",
   "pygments_lexer": "ipython3",
   "version": "3.8.1"
  }
 },
 "nbformat": 4,
 "nbformat_minor": 1
}
